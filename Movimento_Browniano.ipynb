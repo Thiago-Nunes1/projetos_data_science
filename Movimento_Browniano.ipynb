{
  "nbformat": 4,
  "nbformat_minor": 0,
  "metadata": {
    "colab": {
      "name": "Movimento Browniano.ipynb",
      "provenance": [],
      "mount_file_id": "1QOM94in0Docs5SKg-7cmO_sWb6-Cqkne",
      "authorship_tag": "ABX9TyPti/xLoAmm0oP1ZsMbViRh",
      "include_colab_link": true
    },
    "kernelspec": {
      "name": "python3",
      "display_name": "Python 3"
    }
  },
  "cells": [
    {
      "cell_type": "markdown",
      "metadata": {
        "id": "view-in-github",
        "colab_type": "text"
      },
      "source": [
        "<a href=\"https://colab.research.google.com/github/Thiago-Nunes1/projetos_data_science/blob/master/Movimento_Browniano.ipynb\" target=\"_parent\"><img src=\"https://colab.research.google.com/assets/colab-badge.svg\" alt=\"Open In Colab\"/></a>"
      ]
    },
    {
      "cell_type": "markdown",
      "metadata": {
        "id": "s9OvFbXE5cVR",
        "colab_type": "text"
      },
      "source": [
        "**Resolvendo o PIBIC em poucas linhas de código**\n",
        "\n",
        "Você que está realizando um projeto de pesquisa, está trabalhando com muitos dados?\n",
        "A primeira solução é procurar o Excel para realizar essa análise manualmente, mas se quer focar no que realmente interessa e ter mais produtividade se liga nesse tutorial.\n",
        "\n",
        "Me chamo Thiago Nunes, sou professsor de Física e me deparei com esse problema na graduação!\n"
      ]
    },
    {
      "cell_type": "markdown",
      "metadata": {
        "id": "fzvLYq2V5e2e",
        "colab_type": "text"
      },
      "source": [
        "O problema é bem simples, vamos calcular o desvio médio quadrático da posição de uma particula imersa em um fluido. \n",
        "\n",
        "O objetivo é conseguir a constante de Avogadro."
      ]
    },
    {
      "cell_type": "code",
      "metadata": {
        "id": "aVkTjWKh4yPL",
        "colab_type": "code",
        "colab": {
          "base_uri": "https://localhost:8080/",
          "height": 289
        },
        "outputId": "3790de7a-5d44-4e07-c790-ba3f946a8495"
      },
      "source": [
        "# importando as bibliotecas\n",
        "import pandas as pd\n",
        "import numpy as np\n",
        "import math\n",
        "\n",
        "\n",
        "# dados das constantes\n",
        "\n",
        "T = 2.9815E+02            # temperatura\n",
        "n = 1.003E-03             # viscosidade aproximada do flúido\n",
        "a = 5.00E-07              # raio dapartícula browniana\n",
        "R =\t8.3144621E+00         # constante dos gase  \n",
        "t = 14.3                  # tempo \n",
        "\n",
        "print('==='*20)\n",
        "print('Dados recolhidos do TRACKER:')\n",
        "\n",
        "\n",
        "# importação de dados csv do tracker\n",
        "base = pd.read_excel('/content/drive/My Drive/PIBIC dados/agua_com_leite_python.xlsx')\n",
        "print(base.head(428))\n"
      ],
      "execution_count": 3,
      "outputs": [
        {
          "output_type": "stream",
          "text": [
            "============================================================\n",
            "Dados recolhidos do TRACKER:\n",
            "         tempo  posição_x  posição_y    quadrado_x    quadrado_y\n",
            "0     0.000000   0.000012   0.000017  1.553254e-10  2.998028e-10\n",
            "1     0.033333   0.000012   0.000017  1.553054e-10  2.997227e-10\n",
            "2     0.066667   0.000012   0.000017  1.552782e-10  2.996460e-10\n",
            "3     0.100000   0.000012   0.000017  1.551446e-10  2.995861e-10\n",
            "4     0.133333   0.000012   0.000017  1.549716e-10  2.995275e-10\n",
            "..         ...        ...        ...           ...           ...\n",
            "422  14.066856   0.000012   0.000012  1.506973e-10  1.384187e-10\n",
            "423  14.100244   0.000012   0.000012  1.508876e-10  1.382541e-10\n",
            "424  14.133378   0.000012   0.000012  1.509682e-10  1.379591e-10\n",
            "425  14.166711   0.000012   0.000012  1.509530e-10  1.377255e-10\n",
            "426  14.200222   0.000012   0.000012  1.509415e-10  1.376674e-10\n",
            "\n",
            "[427 rows x 5 columns]\n"
          ],
          "name": "stdout"
        }
      ]
    },
    {
      "cell_type": "markdown",
      "metadata": {
        "id": "fXPt9R1t65Gw",
        "colab_type": "text"
      },
      "source": [
        "Esses são os dados obtidoas através de uma vídeo análse, esses dados foram coletados em uma planilha do Excel."
      ]
    },
    {
      "cell_type": "code",
      "metadata": {
        "id": "MfCtptNU6to3",
        "colab_type": "code",
        "colab": {}
      },
      "source": [
        "print('==='*20)\n",
        "# mostrando a média quadrátiva da posição x e y\n",
        "print(f\"- A média quadrática da posição x é:{np.mean(base['quadrado_x'])}\")\n",
        "print(f\"- A média quadrática da posição y é:{np.mean(base['quadrado_y'])}\")\n",
        "\n",
        "\n",
        "# desvio padrão\n",
        "print(f\"- O desvio padrão de x é: {np.std(base['quadrado_x'])}\") # desvio quadrático\n",
        "print(f\"- O desvio padrão de y é: {np.std(base['quadrado_y'])}\") # desvio quadrático\n",
        "\n",
        "\n",
        "# definindo o desvio médio quadrático\n",
        "print(f\"- A soma do do desvio quadrático x + y é: {np.std(base['quadrado_x']) + np.std(base['quadrado_y'])}\")\n",
        "\n",
        "\n",
        "desvio_medio_quadratico = np.std(base['quadrado_x']) + np.std(base['quadrado_y'])\n",
        "\n",
        "print('-='*37)\n",
        "equação_einstein = ((4*R*T)/(6*math.pi*n*a*desvio_medio_quadratico))*t\n",
        "print(f'- O numémo de avogadro através desta análise vale: {equação_einstein}')\n",
        "print('-='*37)"
      ],
      "execution_count": null,
      "outputs": []
    },
    {
      "cell_type": "markdown",
      "metadata": {
        "id": "aE9fecl-7wW1",
        "colab_type": "text"
      },
      "source": [
        "O Python faz toda análise estatística, na física o Python tem grandes aplicações.\n"
      ]
    }
  ]
}